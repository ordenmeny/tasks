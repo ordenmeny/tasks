{
  "nbformat": 4,
  "nbformat_minor": 0,
  "metadata": {
    "colab": {
      "provenance": [],
      "include_colab_link": true
    },
    "kernelspec": {
      "name": "python3",
      "display_name": "Python 3"
    },
    "language_info": {
      "name": "python"
    },
    "gpuClass": "standard"
  },
  "cells": [
    {
      "cell_type": "markdown",
      "metadata": {
        "id": "view-in-github",
        "colab_type": "text"
      },
      "source": [
        "<a href=\"https://colab.research.google.com/github/ordenmeny/tasks/blob/main/%D0%9A%D0%BE%D0%BF%D0%B8%D1%8F_%D0%B1%D0%BB%D0%BE%D0%BA%D0%BD%D0%BE%D1%82%D0%B0_%22%22%D0%A1%D1%82%D1%80%D0%BE%D0%BA%D0%BE%D0%B2%D1%8B%D0%B9_%D1%82%D0%B8%D0%BF_ipynb%22%22.ipynb\" target=\"_parent\"><img src=\"https://colab.research.google.com/assets/colab-badge.svg\" alt=\"Open In Colab\"/></a>"
      ]
    },
    {
      "cell_type": "markdown",
      "source": [
        "# Строки"
      ],
      "metadata": {
        "id": "_Bt6UapZM1xh"
      }
    },
    {
      "cell_type": "markdown",
      "source": [
        "## *Строки как объекты*\n",
        "\n",
        "\n",
        "*   состоят из символов, количество символов в строке найдет функция `len(s)`\n",
        "*   любой объект можно сделать строкой `str(n)`\n",
        "*   можно получить с помощью ввода `input()` или объявить используя двойные кавычки / апострофы `s='abc', s=\"abc\"`\n",
        "*   неизменяемые объекты, но можно строки склеить (конкатенация)(+) и размножить (*)\n",
        "\n",
        "\n",
        "\n"
      ],
      "metadata": {
        "id": "l1b09mKSocAO"
      }
    },
    {
      "cell_type": "code",
      "source": [
        "s1=input()\n",
        "s2='abc'\n",
        "print(len(s1))\n",
        "print(s1+s2)\n",
        "s1=str(1234)\n",
        "print(s2*10)"
      ],
      "metadata": {
        "id": "494NmkYesIGq",
        "colab": {
          "base_uri": "https://localhost:8080/"
        },
        "outputId": "16f28c68-1441-4296-a992-a06ba669cb23"
      },
      "execution_count": 2,
      "outputs": [
        {
          "output_type": "stream",
          "name": "stdout",
          "text": [
            "qwerty\n",
            "6\n",
            "qwertyabc\n",
            "abcabcabcabcabcabcabcabcabcabc\n"
          ]
        }
      ]
    },
    {
      "cell_type": "markdown",
      "source": [
        "## Работаем с элементами строки\n",
        "Индексация элементов строки сначала начинается с 0, а с конца с -1"
      ],
      "metadata": {
        "id": "Q1ntfPV9xq9l"
      }
    },
    {
      "cell_type": "code",
      "source": [
        "s='qwerty' \n",
        "print(s[0]) # первый символ строки\n",
        "print(s[-1]) # последний символ строки\n",
        "\n"
      ],
      "metadata": {
        "id": "bEciWmQMx9YV",
        "colab": {
          "base_uri": "https://localhost:8080/"
        },
        "outputId": "eb5b7ae2-cbae-4da8-e20a-85e3226fb2a8"
      },
      "execution_count": 3,
      "outputs": [
        {
          "output_type": "stream",
          "name": "stdout",
          "text": [
            "q\n",
            "y\n"
          ]
        }
      ]
    },
    {
      "cell_type": "markdown",
      "source": [
        "Перебор символов в строке"
      ],
      "metadata": {
        "id": "D9e5x6H1RU0G"
      }
    },
    {
      "cell_type": "code",
      "source": [
        "s = 'qwerty'\n",
        "for x in s:\n",
        "  print(x)\n",
        "\n",
        "for i in range(len(s)):\n",
        "  print(s[i])\n",
        "\n",
        "for val in enumerate(s):\n",
        "  print(val)"
      ],
      "metadata": {
        "id": "nsTFpHhDRaNm",
        "colab": {
          "base_uri": "https://localhost:8080/"
        },
        "outputId": "038bb795-a1d0-4b08-d107-508b0a7bf724"
      },
      "execution_count": 4,
      "outputs": [
        {
          "output_type": "stream",
          "name": "stdout",
          "text": [
            "q\n",
            "w\n",
            "e\n",
            "r\n",
            "t\n",
            "y\n",
            "q\n",
            "w\n",
            "e\n",
            "r\n",
            "t\n",
            "y\n",
            "(0, 'q')\n",
            "(1, 'w')\n",
            "(2, 'e')\n",
            "(3, 'r')\n",
            "(4, 't')\n",
            "(5, 'y')\n"
          ]
        }
      ]
    },
    {
      "cell_type": "markdown",
      "source": [
        "Проверка вхождения"
      ],
      "metadata": {
        "id": "cYq9dGEVRuGt"
      }
    },
    {
      "cell_type": "code",
      "source": [
        "s = \"qwerty\"\n",
        "l = [f'{f\"{l} in {s}\" if l in s else f\"{l} not in s\"}' for l in 'abcdefghijklmnopqrstuvwxyz']\n",
        "for i in l:\n",
        "    print(i)"
      ],
      "metadata": {
        "id": "LrBL-5HhRz2q",
        "colab": {
          "base_uri": "https://localhost:8080/"
        },
        "outputId": "be17ea51-5425-4c67-dde8-d4adae1f9783"
      },
      "execution_count": 6,
      "outputs": [
        {
          "output_type": "stream",
          "name": "stdout",
          "text": [
            "a not in s\n",
            "b not in s\n",
            "c not in s\n",
            "d not in s\n",
            "e in qwerty\n",
            "f not in s\n",
            "g not in s\n",
            "h not in s\n",
            "i not in s\n",
            "j not in s\n",
            "k not in s\n",
            "l not in s\n",
            "m not in s\n",
            "n not in s\n",
            "o not in s\n",
            "p not in s\n",
            "q in qwerty\n",
            "r in qwerty\n",
            "s not in s\n",
            "t in qwerty\n",
            "u not in s\n",
            "v not in s\n",
            "w in qwerty\n",
            "x not in s\n",
            "y in qwerty\n",
            "z not in s\n"
          ]
        }
      ]
    },
    {
      "cell_type": "markdown",
      "source": [
        "Срезы (slices) строк\n"
      ],
      "metadata": {
        "id": "tObxhDf1P-k6"
      }
    },
    {
      "cell_type": "code",
      "source": [
        "print(s[2:]) # срез от символа с индексом 2 до конца\n",
        "print(s[:7]) # срез от начала строки до символа с индексом 7 невключительно\n",
        "print(s[:])# копия строки\n",
        "print(s[::2]) #все символы строки с четным индексами\n",
        "print(s[::-1]) # строка наоборот"
      ],
      "metadata": {
        "id": "-5y8HXAWRG9s",
        "colab": {
          "base_uri": "https://localhost:8080/"
        },
        "outputId": "82ff9550-5c73-4af3-8b0c-76a0f4adf5bd"
      },
      "execution_count": 7,
      "outputs": [
        {
          "output_type": "stream",
          "name": "stdout",
          "text": [
            "erty\n",
            "qwerty\n",
            "qwerty\n",
            "qet\n",
            "ytrewq\n"
          ]
        }
      ]
    },
    {
      "cell_type": "markdown",
      "source": [
        "# Полезные методы для работы со строками# \n",
        "\n"
      ],
      "metadata": {
        "id": "xT7KR4CBS5v_"
      }
    },
    {
      "cell_type": "code",
      "source": [
        "s = 'aBcbbbCCAAB'\n",
        "print(s.upper())\n",
        "print(s.lower())\n",
        "print(s.count('b'))\n",
        "print(s.find('B'))\n",
        "print(s.rfind('B'))\n",
        "s = s.replace('b','A',1)\n",
        "print(s)\n",
        "s = s.replace('A','O')\n",
        "print(s)\n",
        "print(s.split('O'))"
      ],
      "metadata": {
        "id": "9KcbfAI-U8V1",
        "colab": {
          "base_uri": "https://localhost:8080/"
        },
        "outputId": "cd7d2d10-9875-453a-b8b2-9e9bd2887f14"
      },
      "execution_count": 11,
      "outputs": [
        {
          "output_type": "stream",
          "name": "stdout",
          "text": [
            "ABCBBBCCAAB\n",
            "abcbbbccaab\n",
            "3\n",
            "1\n",
            "10\n",
            "aBcAbbCCAAB\n",
            "aBcObbCCOOB\n",
            "['aBc', 'bbCC', '', 'B']\n"
          ]
        }
      ]
    },
    {
      "cell_type": "markdown",
      "source": [
        "# Перевод строки в список и наоборот"
      ],
      "metadata": {
        "id": "hiUy0RPtNLKq"
      }
    },
    {
      "cell_type": "code",
      "source": [
        "s='СТРОКА'\n",
        "s1=list(s)\n",
        "s2=\"\".join(s1)\n",
        "print(s1)\n",
        "print(s2)"
      ],
      "metadata": {
        "colab": {
          "base_uri": "https://localhost:8080/"
        },
        "id": "9nW8oilsN_RU",
        "outputId": "526d9fc1-96b5-4d0a-b7f2-d1d98b9ae47c"
      },
      "execution_count": 12,
      "outputs": [
        {
          "output_type": "stream",
          "name": "stdout",
          "text": [
            "['С', 'Т', 'Р', 'О', 'К', 'А']\n",
            "СТРОКА\n"
          ]
        }
      ]
    },
    {
      "cell_type": "markdown",
      "source": [
        "### Задача 1\n",
        "Введите с клавиатуры символьную строку и замените все буквы \"а\" на \"b\" и все буквы \"b\" на \"а\" (заглавные на заглавные, строчные на строчные) \n",
        "\n",
        "Пример:\n",
        "\n",
        "\n",
        "Введите строку:\n",
        "aabbAABBccCC\n",
        "\n",
        "Результат:\n",
        "bbaaBBAAccCC"
      ],
      "metadata": {
        "id": "D5W6BP1uWoLw"
      }
    },
    {
      "cell_type": "code",
      "source": [
        "# Введите с клавиатуры символьную строку и замените все буквы \"а\" на \"b\" и все буквы \"b\" на \"а\" (заглавные на заглавные, строчные на строчные)\n",
        "\n",
        "s = input()\n",
        "\n",
        "new_s = ''\n",
        "for i in s:\n",
        "    if i == 'a':\n",
        "        new_s += 'b'\n",
        "    elif i == 'b':\n",
        "        new_s += 'a'\n",
        "    elif i == 'A':\n",
        "        new_s += 'B'\n",
        "    elif i == 'B':\n",
        "        new_s += 'A'\n",
        "    else:\n",
        "        new_s += i\n",
        "\n",
        "print(new_s)"
      ],
      "metadata": {
        "id": "NcQVlKuwX6PT",
        "colab": {
          "base_uri": "https://localhost:8080/"
        },
        "outputId": "7e4d5be6-3047-46a7-e39b-31829da24f0f"
      },
      "execution_count": 15,
      "outputs": [
        {
          "output_type": "stream",
          "name": "stdout",
          "text": [
            "aabbAABBccCC\n",
            "bbaaBBAAccCC\n"
          ]
        }
      ]
    },
    {
      "cell_type": "markdown",
      "source": [
        "### Задача 2\n",
        "\n",
        "Написать программу, которая проверяет является ли введенная строка палиндромом\n",
        "\n",
        "Пример:\n",
        "\n",
        "Введите строку: аааБББааа\n",
        "\n",
        "Строка - палиндром\n",
        "\n",
        "Введите строку: frtyi\n",
        "\n",
        "Строка не является палиндромом"
      ],
      "metadata": {
        "id": "2NYPEgQmYIwS"
      }
    },
    {
      "cell_type": "code",
      "source": [
        "s = 'аааБББааа'\n",
        "\n",
        "print('Палиндром' if s[::] == s[::-1] else \"Нет\")\n"
      ],
      "metadata": {
        "colab": {
          "base_uri": "https://localhost:8080/"
        },
        "id": "wC_z-YMvl8mu",
        "outputId": "c09c66b1-da19-4e6b-eab7-6c6f0d7f4d7e"
      },
      "execution_count": 18,
      "outputs": [
        {
          "output_type": "stream",
          "name": "stdout",
          "text": [
            "Палиндром\n"
          ]
        }
      ]
    }
  ]
}