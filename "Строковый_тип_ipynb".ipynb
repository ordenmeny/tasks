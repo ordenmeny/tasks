{
  "nbformat": 4,
  "nbformat_minor": 0,
  "metadata": {
    "colab": {
      "provenance": [],
      "include_colab_link": true
    },
    "kernelspec": {
      "name": "python3",
      "display_name": "Python 3"
    },
    "language_info": {
      "name": "python"
    },
    "gpuClass": "standard"
  },
  "cells": [
    {
      "cell_type": "markdown",
      "metadata": {
        "id": "view-in-github",
        "colab_type": "text"
      },
      "source": [
        "<a href=\"https://colab.research.google.com/github/ordenmeny/tasks/blob/main/%22%D0%A1%D1%82%D1%80%D0%BE%D0%BA%D0%BE%D0%B2%D1%8B%D0%B9_%D1%82%D0%B8%D0%BF_ipynb%22.ipynb\" target=\"_parent\"><img src=\"https://colab.research.google.com/assets/colab-badge.svg\" alt=\"Open In Colab\"/></a>"
      ]
    },
    {
      "cell_type": "markdown",
      "source": [
        "# Строки"
      ],
      "metadata": {
        "id": "_Bt6UapZM1xh"
      }
    },
    {
      "cell_type": "markdown",
      "source": [
        "## *Строки как объекты*\n",
        "\n",
        "\n",
        "*   состоят из символов, количество символов в строке найдет функция `len(s)`\n",
        "*   любой объект можно сделать строкой `str(n)`\n",
        "*   можно получить с помощью ввода `input()` или объявить используя двойные кавычки / апострофы `s='abc', s=\"abc\"`\n",
        "*   неизменяемые объекты, но можно строки склеить (конкатенация)(+) и размножить (*)\n",
        "\n",
        "\n",
        "\n"
      ],
      "metadata": {
        "id": "l1b09mKSocAO"
      }
    },
    {
      "cell_type": "code",
      "source": [
        "s1=input()\n",
        "s2='abcd'\n",
        "print(len(s1))\n",
        "print(s1+s2)\n",
        "s1=str(1234)\n",
        "print(s1+s2)\n",
        "print(s2*10)"
      ],
      "metadata": {
        "id": "494NmkYesIGq",
        "colab": {
          "base_uri": "https://localhost:8080/"
        },
        "outputId": "be3bae8b-a1d2-42b8-a323-1c4964da26db"
      },
      "execution_count": null,
      "outputs": [
        {
          "output_type": "stream",
          "name": "stdout",
          "text": [
            "ыфв\n",
            "3\n",
            "ыфвabcd\n",
            "1234abcd\n",
            "abcdabcdabcdabcdabcdabcdabcdabcdabcdabcd\n"
          ]
        }
      ]
    },
    {
      "cell_type": "markdown",
      "source": [
        "## Работаем с элементами строки\n",
        "Индексация элементов строки сначала начинается с 0, а с конца с -1"
      ],
      "metadata": {
        "id": "Q1ntfPV9xq9l"
      }
    },
    {
      "cell_type": "code",
      "source": [
        "s='abcdefghijk' \n",
        "print(s[0]) # первый символ строки\n",
        "print(s[-1]) # последний символ строки\n",
        "\n"
      ],
      "metadata": {
        "id": "bEciWmQMx9YV"
      },
      "execution_count": null,
      "outputs": []
    },
    {
      "cell_type": "markdown",
      "source": [
        "Перебор символов в строке"
      ],
      "metadata": {
        "id": "D9e5x6H1RU0G"
      }
    },
    {
      "cell_type": "code",
      "source": [
        "s = 'qwerty'\n",
        "for x in s:\n",
        "  print(x)\n",
        "for i in range(len(s)):\n",
        "  print(s[i])"
      ],
      "metadata": {
        "id": "nsTFpHhDRaNm"
      },
      "execution_count": null,
      "outputs": []
    },
    {
      "cell_type": "markdown",
      "source": [
        "Проверка вхождения"
      ],
      "metadata": {
        "id": "cYq9dGEVRuGt"
      }
    },
    {
      "cell_type": "code",
      "source": [
        "s = 'stroka'\n",
        "if 'a' in s:\n",
        "  print('a')\n",
        "else:\n",
        "  print('no')\n",
        "if 'b' not in s:\n",
        "  print ('no')\n",
        "else:\n",
        "  print('b')"
      ],
      "metadata": {
        "id": "LrBL-5HhRz2q",
        "colab": {
          "base_uri": "https://localhost:8080/"
        },
        "outputId": "01cc7ac6-c46b-4828-b79d-35b456ceccee"
      },
      "execution_count": null,
      "outputs": [
        {
          "output_type": "stream",
          "name": "stdout",
          "text": [
            "a\n",
            "no\n"
          ]
        }
      ]
    },
    {
      "cell_type": "markdown",
      "source": [
        "Срезы (slices) строк\n"
      ],
      "metadata": {
        "id": "tObxhDf1P-k6"
      }
    },
    {
      "cell_type": "code",
      "source": [
        "print(s[2:]) # срез от символа с индексом 2 до конца\n",
        "print(s[:7]) # срез от начала строки до символа с индексом 7 невключительно\n",
        "print(s[:])# копия строки\n",
        "print(s[::2]) #все символы строки с четным индексами\n",
        "print(s[::-1]) # реверс строки (строка наоборот)"
      ],
      "metadata": {
        "id": "-5y8HXAWRG9s"
      },
      "execution_count": null,
      "outputs": []
    },
    {
      "cell_type": "markdown",
      "source": [
        "# Полезные методы для работы со строками# \n",
        "\n"
      ],
      "metadata": {
        "id": "xT7KR4CBS5v_"
      }
    },
    {
      "cell_type": "code",
      "source": [
        "s = 'aBcbbbCCAAB'\n",
        "print(s.upper())\n",
        "print(s.lower())\n",
        "print(s.count('b'))\n",
        "print(s.find('B'))\n",
        "print(s.rfind('B'))\n",
        "s = s.replace('b','A',1)\n",
        "print(s)\n",
        "s = s.replace('A','O')\n",
        "print(s)\n",
        "print(s.split('O'))"
      ],
      "metadata": {
        "id": "9KcbfAI-U8V1",
        "colab": {
          "base_uri": "https://localhost:8080/"
        },
        "outputId": "a7ad0a8c-c3e6-43b3-950d-4a169703d2a8"
      },
      "execution_count": null,
      "outputs": [
        {
          "output_type": "stream",
          "name": "stdout",
          "text": [
            "ABCBBBCCAAB\n",
            "abcbbbccaab\n",
            "3\n",
            "1\n",
            "10\n",
            "aBcAbbCCAAB\n",
            "aBcObbCCOOB\n",
            "['aBc', 'bbCC', '', 'B']\n"
          ]
        }
      ]
    },
    {
      "cell_type": "markdown",
      "source": [
        "# Перевод строки в список и наоборот"
      ],
      "metadata": {
        "id": "hiUy0RPtNLKq"
      }
    },
    {
      "cell_type": "code",
      "source": [
        "s='СТРОКА'\n",
        "s1=list(s)\n",
        "s2=\"\".join(s1)\n",
        "print(s1,'\\n',s2)"
      ],
      "metadata": {
        "colab": {
          "base_uri": "https://localhost:8080/"
        },
        "id": "9nW8oilsN_RU",
        "outputId": "08956653-0e1b-4ea7-bcd4-fb545ff01af3"
      },
      "execution_count": null,
      "outputs": [
        {
          "output_type": "stream",
          "name": "stdout",
          "text": [
            "['С', 'Т', 'Р', 'О', 'К', 'А'] \n",
            " СТРОКА\n"
          ]
        }
      ]
    },
    {
      "cell_type": "markdown",
      "source": [
        "### Задача 1\n",
        "Введите с клавиатуры символьную строку и замените все буквы \"а\" на \"b\" и все буквы \"b\" на \"а\" (заглавные на заглавные, строчные на строчные) \n",
        "\n",
        "Пример:\n",
        "\n",
        "\n",
        "Введите строку:\n",
        "aabbAABBccCC\n",
        "\n",
        "Результат:\n",
        "bbaaBBAAccCC"
      ],
      "metadata": {
        "id": "D5W6BP1uWoLw"
      }
    },
    {
      "cell_type": "code",
      "source": [
        "s = input('Введите строку: ')\n",
        "res=''\n",
        "for x in s:\n",
        "  if x=='a':\n",
        "    res+='b'\n",
        "  elif x=='b':\n",
        "    res+='a'\n",
        "  elif x=='A':\n",
        "    res+='B'\n",
        "  elif x=='B':\n",
        "    res+='A'\n",
        "  else:\n",
        "    res+=x\n",
        "print('Результат: ',res)"
      ],
      "metadata": {
        "id": "NcQVlKuwX6PT",
        "colab": {
          "base_uri": "https://localhost:8080/"
        },
        "outputId": "7d8fa343-b588-4585-887a-fdfb0220405c"
      },
      "execution_count": null,
      "outputs": [
        {
          "output_type": "stream",
          "name": "stdout",
          "text": [
            "Введите строку: aabbAABBccCC\n",
            "Результат:  bbaaBBAAccCC\n"
          ]
        }
      ]
    },
    {
      "cell_type": "markdown",
      "source": [
        "### Задача 2\n",
        "\n",
        "Написать программу, которая проверяет является ли введенная строка палиндромом\n",
        "\n",
        "Пример:\n",
        "\n",
        "Введите строку: аааБББааа\n",
        "\n",
        "Строка - палиндром\n",
        "\n",
        "Введите строку: frtyi\n",
        "\n",
        "Строка не является палиндромом"
      ],
      "metadata": {
        "id": "2NYPEgQmYIwS"
      }
    }
  ]
}